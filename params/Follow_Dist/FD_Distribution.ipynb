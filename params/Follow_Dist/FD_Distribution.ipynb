{
 "cells": [
  {
   "cell_type": "code",
   "execution_count": 4,
   "metadata": {},
   "outputs": [
    {
     "ename": "ModuleNotFoundError",
     "evalue": "No module named 'params'",
     "output_type": "error",
     "traceback": [
      "\u001b[1;31m---------------------------------------------------------------------------\u001b[0m",
      "\u001b[1;31mModuleNotFoundError\u001b[0m                       Traceback (most recent call last)",
      "\u001b[1;32m<ipython-input-4-7a6e4e8d4aa3>\u001b[0m in \u001b[0;36m<module>\u001b[1;34m\u001b[0m\n\u001b[0;32m      7\u001b[0m \u001b[1;32mimport\u001b[0m \u001b[0mscipy\u001b[0m\u001b[1;33m.\u001b[0m\u001b[0mstats\u001b[0m\u001b[1;33m\u001b[0m\u001b[1;33m\u001b[0m\u001b[0m\n\u001b[0;32m      8\u001b[0m \u001b[1;32mfrom\u001b[0m \u001b[0mgenerate_bus_fd\u001b[0m \u001b[1;32mimport\u001b[0m \u001b[0mgenerate_bus_fd\u001b[0m\u001b[1;33m\u001b[0m\u001b[1;33m\u001b[0m\u001b[0m\n\u001b[1;32m----> 9\u001b[1;33m \u001b[1;32mfrom\u001b[0m \u001b[0mparams\u001b[0m\u001b[1;33m.\u001b[0m\u001b[0mSpeed\u001b[0m\u001b[1;33m.\u001b[0m\u001b[0mgenerate_bus_speed\u001b[0m \u001b[1;32mimport\u001b[0m \u001b[0mgenerate_bus_speed\u001b[0m\u001b[1;33m\u001b[0m\u001b[1;33m\u001b[0m\u001b[0m\n\u001b[0m",
      "\u001b[1;31mModuleNotFoundError\u001b[0m: No module named 'params'"
     ]
    }
   ],
   "source": [
    "import pandas as pd\n",
    "import numpy as np\n",
    "import matplotlib.pyplot as plt\n",
    "%matplotlib inline\n",
    "from datetime import datetime, timedelta\n",
    "import scipy.optimize as opt\n",
    "import scipy.stats\n",
    "from generate_bus_fd import generate_bus_fd\n",
    "from params.Speed.generate_bus_speed import generate_bus_speed"
   ]
  },
  {
   "cell_type": "code",
   "execution_count": 2,
   "metadata": {},
   "outputs": [
    {
     "ename": "NameError",
     "evalue": "name 'generate_bus_speed' is not defined",
     "output_type": "error",
     "traceback": [
      "\u001b[1;31m---------------------------------------------------------------------------\u001b[0m",
      "\u001b[1;31mNameError\u001b[0m                                 Traceback (most recent call last)",
      "\u001b[1;32m<ipython-input-2-9bf040773283>\u001b[0m in \u001b[0;36m<module>\u001b[1;34m\u001b[0m\n\u001b[1;32m----> 1\u001b[1;33m \u001b[0mspeed_dist_bus\u001b[0m \u001b[1;33m=\u001b[0m \u001b[0mgenerate_bus_speed\u001b[0m\u001b[1;33m(\u001b[0m\u001b[1;36m100\u001b[0m\u001b[1;33m)\u001b[0m\u001b[1;33m\u001b[0m\u001b[1;33m\u001b[0m\u001b[0m\n\u001b[0m",
      "\u001b[1;31mNameError\u001b[0m: name 'generate_bus_speed' is not defined"
     ]
    }
   ],
   "source": [
    "speed_dist_bus = generate_bus_speed(100)"
   ]
  },
  {
   "cell_type": "code",
   "execution_count": null,
   "metadata": {},
   "outputs": [],
   "source": [
    "# ###add prob values if needed later and update variable names\n",
    "# #plot_df_pvt = pd.read_csv(\"./PvtOccupancyProb.csv\")\n",
    "# #plot_df_bus = pd.read_csv(\"./BusOccProb.csv\")\n",
    "\n",
    "# # plot_df_wb_PMT_freq = pd.read_csv(\"./WB_PMT_freq.csv\") \n",
    "# # plot_df_pvt_PMT_freq = pd.read_csv(\"./PVT_PMT_freq.csv\") \n",
    "# # plot_df_bus_PMT_freq = pd.read_csv(\"./BUS_PMT_freq.csv\")\n",
    "\n",
    "# pmt_pvt_gen = generate_pvt_pmt.Generator(\"PVT_PMT_freq.csv\")\n",
    "# pmt_wb_gen = generate_wb_pmt.Generator(\"WB_PMT_freq.csv\")\n",
    "# pmt_bus_gen = generate_bus_pmt.Generator(\"BUS_PMT_freq.csv\")"
   ]
  },
  {
   "cell_type": "code",
   "execution_count": null,
   "metadata": {
    "scrolled": true
   },
   "outputs": [],
   "source": [
    "###update this block with variable names if there is a need to plot the histogram/bar/line plot\n",
    "\n",
    "# #View initial distribution\n",
    "# fig = plt.figure()\n",
    "# ax = plt.axes()\n",
    "# x_ax = plot_df_pvt['pvt_occ_means_vec']\n",
    "# y_ax = plot_df_pvt['Freq']\n",
    "\n",
    "\n",
    "# #x = np.linspace(0, 10, 1000)\n",
    "# #ax.bar(plot_df['pvt_occ_means_vec'],plot_df['Freq']) ##i dont know why this refuses to plot a decent bar chart!!!!!!!\n",
    "# plt.plot(x_ax,y_ax)\n",
    "# plt.xlabel('Occupancy of private vehicles',size=18)\n",
    "# plt.ylabel('Probability',size=18)\n",
    "# plt.xticks(size=14)\n",
    "# plt.yticks(size=14)"
   ]
  },
  {
   "cell_type": "code",
   "execution_count": null,
   "metadata": {},
   "outputs": [],
   "source": [
    "###update this block with variable names if there is a need to plot the histogram/bar/line plot\n",
    "\n",
    "# fig = plt.figure()\n",
    "# ax = plt.axes()\n",
    "# x_ax = plot_df_bus['bus_main_data_mod']\n",
    "# y_ax = plot_df_bus['Freq']\n",
    "\n",
    "\n",
    "# #x = np.linspace(0, 10, 1000)\n",
    "# #ax.bar(plot_df['pvt_occ_means_vec'],plot_df['Freq']) ##i dont know why this refuses to plot a decent bar chart!!!!!!!\n",
    "# plt.plot(x_ax,y_ax)\n",
    "# plt.xlabel('Bus Occupancy',size=18)\n",
    "# plt.ylabel('Probability',size=18)\n",
    "# plt.xticks(size=14)\n",
    "# plt.yticks(size=14)\n"
   ]
  },
  {
   "cell_type": "code",
   "execution_count": null,
   "metadata": {},
   "outputs": [],
   "source": [
    "# #Create series with values for walk+bike \n",
    "# vals_wb_PMT= []\n",
    "# for i,row in plot_df_wb_PMT_freq.iterrows():\n",
    "#     freq = int(row['Freq'])\n",
    "#     #print(freq)\n",
    "#     for num in range(0,freq):\n",
    "#         vals_wb_PMT.append(row['non_motorized_PMT_vec'])\n",
    "# vals_wb_PMT = pd.Series(vals_wb_PMT)\n",
    "\n",
    "# #Create series with values for pvt vehicle PMT \n",
    "# vals_pvt_PMT= []\n",
    "# for i,row in plot_df_pvt_PMT_freq.iterrows():\n",
    "#     freq = int(row['Freq'])\n",
    "#     #print(freq)\n",
    "#     for num in range(0,freq):\n",
    "#         vals_pvt_PMT.append(row['private_PMT_vec'])\n",
    "# vals_pvt_PMT = pd.Series(vals_pvt_PMT)\n",
    "\n",
    "# #Create series with values for bus PMT \n",
    "# vals_bus_PMT= []\n",
    "# for i,row in plot_df_bus_PMT_freq.iterrows():\n",
    "#     freq = int(row['Freq'])\n",
    "#     #print(freq)\n",
    "#     for num in range(0,freq):\n",
    "#         vals_bus_PMT.append(row['bus_PMT_vec'])\n",
    "# vals_bus_PMT = pd.Series(vals_bus_PMT)"
   ]
  },
  {
   "cell_type": "code",
   "execution_count": null,
   "metadata": {},
   "outputs": [],
   "source": [
    "# #KDE plot documentation: https://pandas.pydata.org/pandas-docs/stable/reference/api/pandas.DataFrame.plot.kde.html\n",
    "\n",
    "# pmt_pvt_gen.plot_df_pvt_pmt_series.plot.kde()"
   ]
  },
  {
   "cell_type": "code",
   "execution_count": null,
   "metadata": {},
   "outputs": [],
   "source": [
    "# #KDE plot documentation: https://pandas.pydata.org/pandas-docs/stable/reference/api/pandas.DataFrame.plot.kde.html\n",
    "\n",
    "# pmt_bus_gen.plot_df_bus_pmt_series.plot.kde()"
   ]
  },
  {
   "cell_type": "code",
   "execution_count": null,
   "metadata": {},
   "outputs": [],
   "source": [
    "# #KDE plot documentation: https://pandas.pydata.org/pandas-docs/stable/reference/api/pandas.DataFrame.plot.kde.html\n",
    "\n",
    "# pmt_wb_gen.plot_df_wb_pmt_series.plot.kde()"
   ]
  },
  {
   "cell_type": "code",
   "execution_count": null,
   "metadata": {},
   "outputs": [],
   "source": [
    "# #Code from here: https://stackoverflow.com/questions/35434363/python-generate-random-values-from-empirical-distribution\n",
    "\n",
    "# sample_pdf_wb_PMT = pmt_wb_gen.plot_df_wb_pmt_pdf\n",
    "\n",
    "# # Sample new datapoints from the KDE\n",
    "# new_sample_data_wb_PMT = sample_pdf_wb_PMT.resample(10000).T[:,0]\n",
    "\n",
    "# # Histogram of initial empirical sample\n",
    "# cnts, bins, p = plt.hist(pmt_wb_gen.plot_df_wb_pmt_series, label='original sample', bins=20,\n",
    "#                          histtype='step', linewidth=1.5, density=True)\n",
    "\n",
    "# # Histogram of datapoints sampled from KDE\n",
    "# plt.hist(new_sample_data_wb_PMT, label='sample from KDE', bins=bins,\n",
    "#          histtype='step', linewidth=1.5, density=True)\n",
    "\n",
    "# # Visualize the kde itself\n",
    "# y_kde = sample_pdf_wb_PMT(bins)\n",
    "# plt.plot(bins, y_kde, label='KDE')\n",
    "# plt.legend()\n",
    "# plt.show(block=False)"
   ]
  },
  {
   "cell_type": "code",
   "execution_count": null,
   "metadata": {},
   "outputs": [],
   "source": [
    "# #Code from here: https://stackoverflow.com/questions/35434363/python-generate-random-values-from-empirical-distribution\n",
    "\n",
    "# sample_pdf_pvt_PMT = pmt_pvt_gen.plot_df_pvt_pmt_pdf\n",
    "\n",
    "# # Sample new datapoints from the KDE\n",
    "# new_sample_data_pvt_PMT = sample_pdf_pvt_PMT.resample(10000).T[:,0]\n",
    "\n",
    "# # Histogram of initial empirical sample\n",
    "# cnts, bins, p = plt.hist(pmt_pvt_gen.plot_df_pvt_pmt_series, label='original sample', bins=20,\n",
    "#                          histtype='step', linewidth=1.5, density=True)\n",
    "\n",
    "# # Histogram of datapoints sampled from KDE\n",
    "# plt.hist(new_sample_data_pvt_PMT, label='sample from KDE', bins=bins,\n",
    "#          histtype='step', linewidth=1.5, density=True)\n",
    "\n",
    "# # Visualize the kde itself\n",
    "# y_kde = sample_pdf_pvt_PMT(bins)\n",
    "# plt.plot(bins, y_kde, label='KDE')\n",
    "# plt.legend()\n",
    "# plt.show(block=False)"
   ]
  },
  {
   "cell_type": "code",
   "execution_count": null,
   "metadata": {},
   "outputs": [],
   "source": [
    "# #Code from here: https://stackoverflow.com/questions/35434363/python-generate-random-values-from-empirical-distribution\n",
    "\n",
    "# sample_pdf_bus_PMT = pmt_bus_gen.plot_df_bus_pmt_pdf\n",
    "\n",
    "# # Sample new datapoints from the KDE\n",
    "# new_sample_data_bus_PMT = sample_pdf_bus_PMT.resample(10000).T[:,0]\n",
    "\n",
    "# # Histogram of initial empirical sample\n",
    "# cnts, bins, p = plt.hist(pmt_bus_gen.plot_df_bus_pmt_series, label='original sample', bins=20,\n",
    "#                          histtype='step', linewidth=1.5, density=True)\n",
    "\n",
    "# # Histogram of datapoints sampled from KDE\n",
    "# plt.hist(new_sample_data_bus_PMT, label='sample from KDE', bins=bins,\n",
    "#          histtype='step', linewidth=1.5, density=True)\n",
    "\n",
    "# # Visualize the kde itself\n",
    "# y_kde = sample_pdf_bus_PMT(bins)\n",
    "# plt.plot(bins, y_kde, label='KDE')\n",
    "# plt.legend()\n",
    "# plt.show(block=False)"
   ]
  },
  {
   "cell_type": "code",
   "execution_count": null,
   "metadata": {},
   "outputs": [],
   "source": [
    "# #To generate 100 samples from MPG distribution:sample_pdf_wb_MS.resample(100)\n",
    "# sample_pdf_wb_PMT.resample(100)"
   ]
  },
  {
   "cell_type": "code",
   "execution_count": null,
   "metadata": {},
   "outputs": [],
   "source": [
    "# #To generate 100 samples from MPG distribution:sample_pdf_wb_MS.resample(100)\n",
    "# sample_pdf_pvt_PMT.resample(100)"
   ]
  },
  {
   "cell_type": "code",
   "execution_count": null,
   "metadata": {},
   "outputs": [],
   "source": [
    "# #To generate 100 samples from MPG distribution:sample_pdf_wb_MS.resample(100)\n",
    "# sample_pdf_bus_PMT.resample(100)"
   ]
  },
  {
   "cell_type": "code",
   "execution_count": null,
   "metadata": {},
   "outputs": [],
   "source": []
  }
 ],
 "metadata": {
  "kernelspec": {
   "display_name": "Python 3",
   "language": "python",
   "name": "python3"
  },
  "language_info": {
   "codemirror_mode": {
    "name": "ipython",
    "version": 3
   },
   "file_extension": ".py",
   "mimetype": "text/x-python",
   "name": "python",
   "nbconvert_exporter": "python",
   "pygments_lexer": "ipython3",
   "version": "3.8.3"
  }
 },
 "nbformat": 4,
 "nbformat_minor": 4
}

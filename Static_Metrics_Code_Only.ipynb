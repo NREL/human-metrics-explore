{
 "cells": [
  {
   "cell_type": "markdown",
   "metadata": {},
   "source": [
    "## Towards Human-Centric Transportation and Energy Metrics: Influence of Mode, Vehicle Occupancy, Trip Distance, and Fuel Economy\n",
    "\n",
    "This notebook is a companion to the related paper of the same name. We publish our code for greater reproducibility and as a basis for additional innovation in this field. This notebook contains the static graphs that were included in the paper. For an interactive version, please see the Interactive_Metrics notebook."
   ]
  },
  {
   "cell_type": "markdown",
   "metadata": {},
   "source": [
    "Abstract: \n",
    "\n",
    "_Traditional metrics measuring transportation and energy outcomes can be augmented to better represent impacts on people's lives and systems-level performance. In this context, this study introduces two novel metrics: road capacity (as number of people traveling and accessing services) and energy intensity (as energy use for people traveling and accessing services). Current national-level distributions of available data in the United States for factors contributing to the two new integrated metrics are used as context to evaluate potential outcomes. These factors include vehicle occupancy, mode share, fuel economy, and trip distance. Variations in input values provide insights on how these factors shape efficiencies in road capacity and energy intensity. Parametric sensitivity analysis indicates that the impact of each input depends upon the metric being evaluated. For the human-centered road capacity mobility metric, increasing vehicle occupancy has the largest effect &ndash; twice that of increasing mode share for bike, walk, and transit. For the energy intensity mobility metric, the effect of improving fuel economy is the largest. However, when the focus is on accessibility (instead of mobility), for both metrics the effect of lowering average trip distance is the largest. Additionally, a novel interactive tool to visualize the results for various parameter combinations makes the metrics practitioner ready. The findings suggest that the diffusion of new human-centric metrics that benchmark outcomes associated with road capacity and energy may be significant in motivating new sustainable transportation investments and efficient utilization of infrastructure, mobility assets, and services._"
   ]
  },
  {
   "cell_type": "code",
   "execution_count": null,
   "metadata": {},
   "outputs": [],
   "source": [
    "from ipywidgets import interact, interactive, fixed, interact_manual\n",
    "import ipywidgets as widgets\n",
    "\n",
    "import numpy as np\n",
    "import matplotlib.patches as mpatches\n",
    "\n",
    "from params.generate_all import generate_all \n",
    "from functions.vphpl_pphpl_calc import vphpl_pphpl_calc, pphpl_by_mode\n",
    "from functions.plots_functions import violin, pdf_plot, cdf_plot, cdf_subplots, calc_ms_pvt \n",
    "\n",
    "import matplotlib.pyplot as plt\n",
    "from ipywidgets import interactive\n",
    "%matplotlib inline\n",
    "import matplotlib as mpl\n",
    "import seaborn as sns\n",
    "\n",
    "mpl.rcParams['figure.figsize'] = [8.0, 6.0]\n",
    "mpl.rcParams['figure.dpi'] = 80\n",
    "mpl.rcParams['savefig.dpi'] = 100\n",
    "\n",
    "mpl.rcParams['font.size'] = 13\n",
    "mpl.rcParams['axes.labelsize'] = 13\n",
    "mpl.rcParams['axes.titlesize'] = 13\n",
    "mpl.rcParams['legend.fontsize'] = 'medium'\n",
    "mpl.rcParams['figure.titlesize'] = 'medium'\n",
    "#mpl.rcParams['figure.subplot.wspace'] = 0.25 #Use when producing 3-wide subplots\n",
    "\n",
    "\n",
    "#Color-blind friendly for line plots: https://gist.github.com/thriveth/8560036\n",
    "CB_color_cycle = ['#377eb8', '#ff7f00', '#4daf4a',\n",
    "                  '#f781bf', '#a65628', '#984ea3',\n",
    "                  '#999999', '#e41a1c', '#dede00']\n"
   ]
  },
  {
   "cell_type": "code",
   "execution_count": null,
   "metadata": {},
   "outputs": [],
   "source": [
    "#########Std dev varying functions#########\n",
    "\n",
    "#Given binary inputs for ms, occ, fe, calculate the std dev version of PEIT1\n",
    "def calculate_peit_var(ms_var, occ_var, FE_var):\n",
    "    ms_bus_mod = stddev_gen(params[\"ms\"][\"bus\"], ms_var)\n",
    "    ms_wb_mod = stddev_gen(params[\"ms\"][\"wb\"], ms_var)\n",
    "    ms_pvt_mod = 1 - (ms_bus_mod + ms_wb_mod)\n",
    "\n",
    "    pvt_peit_std=peit1_calc(ms_pvt_mod,stddev_gen(params[\"occ\"][\"pvt\"], occ_var),stddev_gen(params[\"FE\"][\"pvt\"], FE_var))\n",
    "    bus_peit_std=peit1_calc(ms_bus_mod,stddev_gen(params[\"occ\"][\"bus\"], occ_var),stddev_gen(params[\"FE\"][\"bus\"], FE_var))\n",
    "    wb_peit_std=peit1_calc(ms_wb_mod,1,110)\n",
    "    peit_vals_std = pvt_peit_std+bus_peit_std+wb_peit_std\n",
    "    return peit_vals_std\n",
    "\n",
    "#Given binary inputs for ms, occ, fe, pmt calculate the std dev version of PEIT2\n",
    "#Input of 1 means increase that parameter value by a standard deviation of 1\n",
    "def calculate_peit2_var(ms_var, occ_var, FE_var, pmt_var):\n",
    "    ms_bus_mod = stddev_gen(params[\"ms\"][\"bus\"], ms_var)\n",
    "    ms_wb_mod = stddev_gen(params[\"ms\"][\"wb\"], ms_var)\n",
    "    ms_pvt_mod = 1 - (ms_bus_mod + ms_wb_mod)\n",
    "\n",
    "    pvt_peit_std=peit1_calc(ms_pvt_mod,stddev_gen(params[\"occ\"][\"pvt\"], occ_var),stddev_gen(params[\"FE\"][\"pvt\"], FE_var))*stddev_gen(params[\"pmt\"][\"pvt\"],pmt_var)\n",
    "    bus_peit_std=peit1_calc(ms_bus_mod,stddev_gen(params[\"occ\"][\"bus\"], occ_var),stddev_gen(params[\"FE\"][\"bus\"], FE_var))*stddev_gen(params[\"pmt\"][\"bus\"],pmt_var)\n",
    "    wb_peit_std=peit1_calc(ms_wb_mod,1,110)*stddev_gen(params[\"pmt\"][\"wb\"],pmt_var)\n",
    "    peit_vals_std = pvt_peit_std+bus_peit_std+wb_peit_std\n",
    "    return peit_vals_std\n",
    "\n",
    "#Given binary inputs for ms, occ, fe, calculate the std dev version of PPHPL\n",
    "#-1 for pmt so it is an improvement\n",
    "def calculate_pphpl_var(occ, ms):\n",
    "    ms_bus = stddev_gen(params[\"ms\"][\"bus\"], ms)\n",
    "    ms_wb = stddev_gen(params[\"ms\"][\"wb\"], ms)\n",
    "    ms_pvt = 1 - (ms_bus + ms_wb)\n",
    "\n",
    "    pphpl_pvt_std=pphpl_by_mode(results[\"vphpl\"][\"pvt\"],params['mpw']['pvt'],stddev_gen(params[\"occ\"][\"pvt\"],occ)).tolist()\n",
    "    pphpl_bus_std=pphpl_by_mode(results[\"vphpl\"][\"bus\"],params['mpw']['bus'],stddev_gen(params[\"occ\"][\"bus\"],occ)).tolist()\n",
    "    pphpl_wb_std=np.array([i/j * 1000 * params['mpw']['wb'] * 1  for i,j in zip(params[\"speed\"][\"wb\"],results['tl']['wb'])]).flatten().tolist()\n",
    "    pphpl_combined_std = ((pphpl_pvt_std * ms_pvt) + (pphpl_bus_std*ms_bus) + (pphpl_wb_std*ms_wb)).flatten().tolist()\n",
    "     \n",
    "    return pphpl_combined_std\n",
    "\n",
    "def calculate_pphpl2_var(occ, ms, pmt):\n",
    "    road_len = 20 #km\n",
    "    ms_bus = stddev_gen(params[\"ms\"][\"bus\"], ms)\n",
    "    ms_wb = stddev_gen(params[\"ms\"][\"wb\"], ms)\n",
    "    ms_pvt = 1 - (ms_bus + ms_wb)\n",
    "\n",
    "    pphpl_pvt_std=pphpl_by_mode(results[\"vphpl\"][\"pvt\"],params['mpw']['pvt'],stddev_gen(params[\"occ\"][\"pvt\"],occ)).tolist()*stddev_gen(road_len/params['pmt']['pvt'],pmt)\n",
    "    pphpl_bus_std=pphpl_by_mode(results[\"vphpl\"][\"bus\"],params['mpw']['bus'],stddev_gen(params[\"occ\"][\"bus\"],occ)).tolist()*stddev_gen(road_len/params['pmt']['bus'],pmt)\n",
    "    pphpl_bus_std = [0 if i < 0 else i for i in pphpl_bus_std] #Ensure negative values are zeroed\n",
    "    pphpl_wb_std=np.array([i/j * 1000 * params['mpw']['wb'] * 1  for i,j in zip(params[\"speed\"][\"wb\"],results['tl']['wb'])]).flatten().tolist()*stddev_gen(road_len/params['pmt']['wb'],pmt)\n",
    "    pphpl_combined_std = ((pphpl_pvt_std * ms_pvt) + (pphpl_bus_std*ms_bus) + (pphpl_wb_std*ms_wb)).flatten().tolist()\n",
    "    return pphpl_combined_std"
   ]
  },
  {
   "cell_type": "markdown",
   "metadata": {},
   "source": [
    "## Read the parameters and generate baseline values"
   ]
  },
  {
   "cell_type": "code",
   "execution_count": null,
   "metadata": {},
   "outputs": [],
   "source": [
    "params = generate_all()\n",
    "results = vphpl_pphpl_calc(params)"
   ]
  },
  {
   "cell_type": "markdown",
   "metadata": {},
   "source": [
    "# Plotting Parameters"
   ]
  },
  {
   "cell_type": "code",
   "execution_count": null,
   "metadata": {},
   "outputs": [],
   "source": [
    "#FE subplots\n",
    "cdf_subplots([params[\"FE\"][\"bus\"],params[\"FE\"][\"pvt\"]],['Transit bus','Private vehicle'],\"Vehicle energy efficiency [km/L fuel]\",['orange','blue'])"
   ]
  },
  {
   "cell_type": "code",
   "execution_count": null,
   "metadata": {},
   "outputs": [],
   "source": [
    "#occ\n",
    "cdf_subplots([params[\"occ\"][\"pvt\"],params[\"occ\"][\"bus\"]],['Private vehicle','Transit bus'],\"Number of passengers per vehicle\")"
   ]
  },
  {
   "cell_type": "code",
   "execution_count": null,
   "metadata": {},
   "outputs": [],
   "source": [
    "#ms and reset \n",
    "cdf_subplots([params[\"ms\"][\"bus\"],params[\"ms\"][\"wb\"],params[\"ms\"][\"pvt\"]],['Transit bus','Walk & bike','Private vehicle'],\"Mode share\",['orange','green','blue'])"
   ]
  },
  {
   "cell_type": "code",
   "execution_count": null,
   "metadata": {},
   "outputs": [],
   "source": [
    "#pmt\n",
    "cdf_subplots([params[\"pmt\"][\"wb\"],params[\"pmt\"][\"pvt\"],params[\"pmt\"][\"bus\"]],['Walk & bike','Private vehicle','Transit bus'],\"Trip distance [km]\",['green','blue','orange'])"
   ]
  },
  {
   "cell_type": "markdown",
   "metadata": {},
   "source": [
    "### PEIT Plot"
   ]
  },
  {
   "cell_type": "code",
   "execution_count": null,
   "metadata": {},
   "outputs": [],
   "source": [
    "def peit1_calc(ms, avo, ee):\n",
    "    return ms * (1/avo) * (1/ee)"
   ]
  },
  {
   "cell_type": "code",
   "execution_count": null,
   "metadata": {},
   "outputs": [],
   "source": [
    "# Default parameter does not change anything\n",
    "# 1 adds one standard deviation\n",
    "# -1 removes one standard deviation\n",
    "def stddev_gen(vals,stddev_ratio=1):\n",
    "    stddev = np.std(vals)\n",
    "    new_vals = vals + stddev_ratio * stddev\n",
    "    new_vals=new_vals.flatten()\n",
    "    return new_vals\n",
    "\n",
    "\n",
    "def add_label(violin, label):\n",
    "    color = violin[\"bodies\"][0].get_facecolor().flatten()\n",
    "    labels.append((mpatches.Patch(color=color), label))"
   ]
  },
  {
   "cell_type": "code",
   "execution_count": null,
   "metadata": {},
   "outputs": [],
   "source": [
    "cdf_subplots([results[\"peit1\"][\"combined\"],results[\"peit2\"][\"combined\"]],[\"PEIT1 [fuel L/km]\",\"PEIT2 [fuel L/trip]\"],'Person energy intensity for transportation',['green','blue','orange'])\n"
   ]
  },
  {
   "cell_type": "markdown",
   "metadata": {},
   "source": [
    "# Standard Deviation Plots for PEIT"
   ]
  },
  {
   "cell_type": "code",
   "execution_count": null,
   "metadata": {},
   "outputs": [],
   "source": [
    "#CDFs of modes all in a single plot\n",
    "#Colors MUST be passed in as a list even if there's only one color\n",
    "def cdf_plot(data, labels, xaxis_title = \"\",colors = ['blue','orange','green']):\n",
    "    fig = plt.figure()\n",
    "    ax = fig.add_axes([0,0,1,1])\n",
    "    if (isinstance(data[0],np.ndarray) or isinstance(data[0],list)): #If we pass in a list of datasets\n",
    "        for idx in range(0,len(data)):\n",
    "            if labels[idx]==\"Baseline\":\n",
    "                linewidth=3\n",
    "                linestyle=\"--\"\n",
    "            else:\n",
    "                linewidth=2\n",
    "                linestyle=\"-\"\n",
    "            values, base = np.histogram(data[idx], bins=41)\n",
    "            base[-1]= max([max(x) for x in data])\n",
    "            cumulative = np.cumsum(values)\n",
    "            cumulative = np.append(cumulative,100)\n",
    "            \n",
    "            ######\n",
    "            median=np.percentile(data[idx], 50) #Using 47th percentile to make lines intersect with trends visually- unsure why 50th percentile doesn't lie on curve\n",
    "            plt.axhline(y=.5, xmin=0, xmax=1, color='red',linestyle=\":\",linewidth=1)\n",
    "            plt.axvline(x=median, ymin=0, ymax=0.5,color=colors[idx],linestyle=\":\",linewidth=2)\n",
    "            #plt.text(median, idx/20, round(median,3), color=colors[idx], fontsize=14)\n",
    "            print(median)\n",
    "            ######\n",
    "            \n",
    "            plt.plot(base, cumulative/100, linewidth=linewidth,linestyle=linestyle,label = labels[idx],c=colors[idx])\n",
    "            plt.fill_between(base, cumulative/100, 0, alpha=0.05,color=colors[idx])\n",
    "    else: #There is only one dataset being passed in\n",
    "        values, base = np.histogram(data, bins=41)\n",
    "        base[-1]= max(data)\n",
    "        cumulative = np.cumsum(values)\n",
    "        cumulative = np.append(cumulative,100)\n",
    "        plt.plot(base, cumulative/100, linewidth=2,label = labels,c=colors[0])\n",
    "        plt.fill_between(base, cumulative/100, 0, alpha=0.05,color=colors[0])\n",
    "    plt.text(np.percentile(data[idx], 90), 0.5, 'Median', color=\"red\", fontsize=14)\n",
    "    ax.set_xlabel(xaxis_title)\n",
    "    plt.legend(loc=\"lower right\")\n",
    "    plt.show()"
   ]
  },
  {
   "cell_type": "code",
   "execution_count": null,
   "metadata": {
    "scrolled": true
   },
   "outputs": [],
   "source": [
    "#All PEIT1 std dev\n",
    "cdf_plot([results['peit1']['combined'],calculate_peit_var(1,0,0),calculate_peit_var(0,1,0),calculate_peit_var(0,0,1)],\n",
    "         ['Baseline','Higher mode share\\n(Transit bus, Walk & bike)','Higher occupancy\\n(Private vehicle, Transit bus)','Higher fuel economy\\n(Private vehicle, Transit bus)'],\n",
    "         \"Person energy intensity for transportation [fuel L/km]\",CB_color_cycle)"
   ]
  },
  {
   "cell_type": "code",
   "execution_count": null,
   "metadata": {
    "scrolled": true
   },
   "outputs": [],
   "source": [
    "#All PEIT2 std dev\n",
    "#-1 for trip distance because we want all of the scenarios to be improvements over the baseline\n",
    "cdf_plot([results['peit2']['combined'],calculate_peit2_var(1,0,0,0),calculate_peit2_var(0,1,0,0),calculate_peit2_var(0,0,1,0),calculate_peit2_var(0,0,0,-1)],\n",
    "         ['Baseline','Higher mode share\\n(Transit bus, Walk & bike)','Higher occupancy\\n(Private vehicle, Transit bus)','High fuel economy\\n(Private vehicle, Transit bus)','Lower avg trip distance'],\n",
    "         \"Person energy intensity for transportation [fuel L/trip]\",CB_color_cycle)"
   ]
  },
  {
   "cell_type": "markdown",
   "metadata": {},
   "source": [
    "# Standard Deviation Plots for PPHPL"
   ]
  },
  {
   "cell_type": "code",
   "execution_count": null,
   "metadata": {},
   "outputs": [],
   "source": [
    "#PPHPL1 and 2 plots (combined standard deviation CDF curves)\n",
    "cdf_plot([results['pphpl1']['combined'],calculate_pphpl_var(0,1),calculate_pphpl_var(1,0)],\n",
    "         ['Baseline','Higher mode share\\n(transit bus, walk & bike)','Higher occupancy\\n(Private vehicle, Transit bus)'],\n",
    "         \"People per hour per lane\",CB_color_cycle)\n",
    "cdf_plot([results['pphpl2']['combined'],calculate_pphpl2_var(0,1,0),calculate_pphpl2_var(1,0,0),calculate_pphpl2_var(0,0,1)],\n",
    "         ['Baseline','Higher mode share\\n(transit bus, walk & bike)','Higher occupancy\\n(Private vehicle, Transit bus)','Lower trip distance'],\n",
    "         \"People per hour per lane (20 km)\",CB_color_cycle)"
   ]
  },
  {
   "cell_type": "markdown",
   "metadata": {},
   "source": [
    "### COMBINED VPHPL and PPHPL plot"
   ]
  },
  {
   "cell_type": "code",
   "execution_count": null,
   "metadata": {},
   "outputs": [],
   "source": [
    "#COMBINED VPHPL AND PPHPL PLOT\n",
    "fig = plt.figure()\n",
    "ax = fig.add_axes([0,0,1,1])\n",
    "labels = []\n",
    "def add_label(violin, label):\n",
    "    color = violin[\"bodies\"][0].get_facecolor().flatten()\n",
    "    labels.append((mpatches.Patch(color=color), label))\n",
    "\n",
    "add_label(plt.violinplot([results[\"vphpl\"][\"pvt\"],results[\"vphpl\"][\"bus\"]]), \"VPHPL\")    \n",
    "add_label(plt.violinplot([results[\"pphpl1\"][\"pvt\"],results[\"pphpl1\"][\"bus\"],results[\"pphpl1\"][\"wb\"]]), \"PPHPL1\")\n",
    "add_label(plt.violinplot([results[\"pphpl2\"][\"pvt\"],results[\"pphpl2\"][\"bus\"],results[\"pphpl2\"][\"wb\"]]), \"PPHPL2 (20 km)\")\n",
    "ax.set_yscale(\"log\")\n",
    "xticklabels = ['Private vehicle', 'Transit bus', 'Walk & bike']\n",
    "ax.set_xticks([1,2,3])\n",
    "ax.set_xticklabels(xticklabels)\n",
    "plt.legend(*zip(*labels), loc=2, fontsize = 12)\n",
    "ax.set_ylabel('Number of vehicles or people per hour per lane')"
   ]
  },
  {
   "cell_type": "code",
   "execution_count": null,
   "metadata": {},
   "outputs": [],
   "source": [
    "#COMBINED VPHPL AND PPHPL PLOT\n",
    "fig = plt.figure()\n",
    "ax = fig.add_axes([0,0,1,1])\n",
    "labels = []\n",
    "def add_label(violin, label):\n",
    "    color = violin[\"bodies\"][0].get_facecolor().flatten()\n",
    "    labels.append((mpatches.Patch(color=color), label))\n",
    "\n",
    "add_label(plt.violinplot([results[\"vphpl\"][\"pvt\"],results[\"vphpl\"][\"bus\"]]), \"VPHPL\")    \n",
    "add_label(plt.violinplot([results[\"pphpl1\"][\"pvt\"],results[\"pphpl1\"][\"bus\"],results[\"pphpl1\"][\"wb\"]]), \"PPHPL\")\n",
    "ax.set_yscale(\"log\")\n",
    "xticklabels = ['Private vehicle', 'Transit bus', 'Walk & bike']\n",
    "ax.set_xticks([1,2,3])\n",
    "ax.set_xticklabels(xticklabels)\n",
    "plt.legend(*zip(*labels), loc=2, fontsize = 12)\n",
    "ax.set_ylabel('Number of vehicles or people per hour per lane')"
   ]
  }
 ],
 "metadata": {
  "kernelspec": {
   "display_name": "Python 3",
   "language": "python",
   "name": "python3"
  },
  "language_info": {
   "codemirror_mode": {
    "name": "ipython",
    "version": 3
   },
   "file_extension": ".py",
   "mimetype": "text/x-python",
   "name": "python",
   "nbconvert_exporter": "python",
   "pygments_lexer": "ipython3",
   "version": "3.8.5"
  }
 },
 "nbformat": 4,
 "nbformat_minor": 4
}

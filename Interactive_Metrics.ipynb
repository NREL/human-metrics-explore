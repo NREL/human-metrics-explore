{
 "cells": [
  {
   "cell_type": "markdown",
   "metadata": {},
   "source": [
    "## Towards Human-Centric Transportation and Energy Metrics: Influence of Mode, Vehicle Occupancy, Trip Distance, and Fuel Economy\n",
    "\n",
    "This notebook is a companion to the related paper of the same name. We publish our code for greater reproducibility and as a basis for additional innovation in this field. This notebook contains interactive graphs that can be manipulated to explore the metric space. This allows the notebook to be used by practioners as well without modifying any code."
   ]
  },
  {
   "cell_type": "markdown",
   "metadata": {},
   "source": [
    "Abstract: \n",
    "\n",
    "_Traditional metrics measuring transportation and energy outcomes can be augmented to better represent impacts on people's lives and systems-level performance. In this context, this study introduces two novel metrics: road capacity (as number of people traveling and accessing services) and energy intensity (as energy use for people traveling and accessing services). Current national-level distributions of available data in the United States for factors contributing to the two new integrated metrics are used as context to evaluate potential outcomes. These factors include vehicle occupancy, mode share, fuel economy, and trip distance. Variations in input values provide insights on how these factors shape efficiencies in road capacity and energy intensity. Parametric sensitivity analysis indicates that the impact of each input depends upon the metric being evaluated. For the human-centered road capacity mobility metric, increasing vehicle occupancy has the largest effect &ndash; twice that of increasing mode share for bike, walk, and transit. For the energy intensity mobility metric, the effect of improving fuel economy is the largest. However, when the focus is on accessibility (instead of mobility), for both metrics the effect of lowering average trip distance is the largest. Additionally, a novel interactive tool to visualize the results for various parameter combinations makes the metrics practitioner ready. The findings suggest that the diffusion of new human-centric metrics that benchmark outcomes associated with road capacity and energy may be significant in motivating new sustainable transportation investments and efficient utilization of infrastructure, mobility assets, and services._"
   ]
  },
  {
   "cell_type": "code",
   "execution_count": null,
   "metadata": {},
   "outputs": [],
   "source": [
    "from ipywidgets import interact, interactive, fixed, interact_manual\n",
    "import ipywidgets as widgets\n",
    "from copy import deepcopy\n",
    "\n",
    "import numpy as np\n",
    "import matplotlib.patches as mpatches\n",
    "\n",
    "from functions.vphpl_pphpl_calc import vphpl_pphpl_calc, pphpl_by_mode\n",
    "from functions.plots_functions import violin, pdf_plot, cdf_plot, cdf_subplots, calc_ms_pvt\n",
    "from functions.graphing_functions import cdf_plot, calculate_peit_var, get_data, create_sliders, change_mean_from_kwargs\n",
    "\n",
    "from ipywidgets import interactive, Layout\n",
    "%matplotlib inline\n",
    "import matplotlib as mpl\n",
    "import seaborn as sns\n",
    "\n",
    "mpl.rcParams['figure.figsize'] = [8.0, 6.0]\n",
    "mpl.rcParams['figure.dpi'] = 80\n",
    "mpl.rcParams['savefig.dpi'] = 100\n",
    "\n",
    "mpl.rcParams['font.size'] = 13\n",
    "mpl.rcParams['axes.labelsize'] = 13\n",
    "mpl.rcParams['axes.titlesize'] = 13\n",
    "mpl.rcParams['legend.fontsize'] = 'medium'\n",
    "mpl.rcParams['figure.titlesize'] = 'medium'\n",
    "#mpl.rcParams['figure.subplot.wspace'] = 0.25 #Use when producing 3-wide subplots\n",
    "\n",
    "\n",
    "#Color-blind friendly for line plots: https://gist.github.com/thriveth/8560036\n",
    "CB_color_cycle = ['#377eb8', '#ff7f00', '#4daf4a',\n",
    "                  '#f781bf', '#a65628', '#984ea3',\n",
    "                  '#999999', '#e41a1c', '#dede00']\n"
   ]
  },
  {
   "cell_type": "code",
   "execution_count": null,
   "metadata": {},
   "outputs": [],
   "source": [
    "params, results, summary = get_data()"
   ]
  },
  {
   "cell_type": "markdown",
   "metadata": {},
   "source": [
    "## PEIT (Personal Energy Intensity for Transportation (PEIT)"
   ]
  },
  {
   "cell_type": "code",
   "execution_count": null,
   "metadata": {},
   "outputs": [],
   "source": [
    "# ms: mode share\n",
    "# occ: average occupancy\n",
    "# FE: fuel efficiency\n",
    "def peit1_calc(ms, occ, FE):\n",
    "    return ms * (1/occ) * (1/FE)"
   ]
  },
  {
   "cell_type": "code",
   "execution_count": null,
   "metadata": {},
   "outputs": [],
   "source": [
    "baseline = results['peit1']['combined']"
   ]
  },
  {
   "cell_type": "code",
   "execution_count": null,
   "metadata": {},
   "outputs": [],
   "source": [
    "# summary"
   ]
  },
  {
   "cell_type": "code",
   "execution_count": null,
   "metadata": {},
   "outputs": [],
   "source": [
    "def get_modified_peit(**kwargs):\n",
    "    # let's say that the original mean was 10, new mean is 20. we want to add 10 to all values\n",
    "    change_mean = lambda param_mode: change_mean_from_kwargs(param_mode, kwargs)\n",
    "    \n",
    "    ms_wb_mod = change_mean(\"ms_wb\")\n",
    "    ms_transit_mod = change_mean(\"ms_bus\")\n",
    "    ms_pvt_mod = 1 - (ms_transit_mod + ms_wb_mod)\n",
    "\n",
    "    pvt_peit_mod = peit1_calc(ms_pvt_mod, change_mean(\"occ_pvt\"), change_mean(\"FE_pvt\"))\n",
    "    bus_peit_mod= peit1_calc(ms_transit_mod, change_mean(\"occ_bus\"), change_mean(\"FE_bus\"))\n",
    "    wb_peit_mod=peit1_calc(ms_wb_mod,1,110)\n",
    "    modified_peit = pvt_peit_mod + bus_peit_mod + wb_peit_mod\n",
    "    return modified_peit"
   ]
  },
  {
   "cell_type": "code",
   "execution_count": null,
   "metadata": {},
   "outputs": [],
   "source": [
    "def explore_peit_var(**kwargs):\n",
    "    modified_peit = get_modified_peit(**kwargs)\n",
    "    cdf_plot([results['peit1']['combined'],modified_peit],['Baseline','Modified'],\"PEIT1 [L/km]\",['gold','red'])"
   ]
  },
  {
   "cell_type": "code",
   "execution_count": null,
   "metadata": {},
   "outputs": [],
   "source": [
    "PEIT_SLIDER_LIST = [\"ms_wb\", \"ms_bus\", \"occ_bus\", \"occ_pvt\", \"FE_bus\", \"FE_pvt\"]"
   ]
  },
  {
   "cell_type": "code",
   "execution_count": null,
   "metadata": {},
   "outputs": [],
   "source": [
    "# create_sliders()"
   ]
  },
  {
   "cell_type": "code",
   "execution_count": null,
   "metadata": {},
   "outputs": [],
   "source": [
    "# interact_manual(explore_peit_var, **create_sliders(PEIT_SLIDER_LIST));"
   ]
  },
  {
   "cell_type": "code",
   "execution_count": null,
   "metadata": {},
   "outputs": [],
   "source": [
    "interactive_plot_1 = interactive(explore_peit_var, {'manual' : True, 'manual_name' : 'Recalculate'}, **create_sliders(PEIT_SLIDER_LIST));\n",
    "interactive_plot_2 = interactive(explore_peit_var, {'manual' : True, 'manual_name' : 'Recalculate'}, **create_sliders(PEIT_SLIDER_LIST));\n",
    "two_graphs = widgets.HBox(children=[interactive_plot_1, interactive_plot_2])\n",
    "two_graphs"
   ]
  },
  {
   "cell_type": "markdown",
   "metadata": {},
   "source": [
    "# Everything below this needs to be modified by Dustin"
   ]
  },
  {
   "cell_type": "markdown",
   "metadata": {},
   "source": [
    "# Standard Deviation Plots for PPHPL"
   ]
  },
  {
   "cell_type": "code",
   "execution_count": null,
   "metadata": {},
   "outputs": [],
   "source": [
    "#PPHPL1 and 2 plots (combined standard deviation CDF curves)\n",
    "cdf_plot([results['pphpl1']['combined'],calculate_pphpl_var(0,1),calculate_pphpl_var(1,0)],\n",
    "         ['Baseline','Higher mode share\\n(transit bus, walk & bike)','Higher occupancy\\n(Private vehicle, Transit bus)'],\n",
    "         \"People per hour per lane\",CB_color_cycle)\n",
    "cdf_plot([results['pphpl2']['combined'],calculate_pphpl2_var(0,1,0),calculate_pphpl2_var(1,0,0),calculate_pphpl2_var(0,0,1)],\n",
    "         ['Baseline','Higher mode share\\n(transit bus, walk & bike)','Higher occupancy\\n(Private vehicle, Transit bus)','Lower trip distance'],\n",
    "         \"People per hour per lane (20 km)\",CB_color_cycle)"
   ]
  },
  {
   "cell_type": "markdown",
   "metadata": {},
   "source": [
    "### COMBINED VPHPL and PPHPL plot"
   ]
  },
  {
   "cell_type": "code",
   "execution_count": null,
   "metadata": {},
   "outputs": [],
   "source": [
    "#COMBINED VPHPL AND PPHPL PLOT\n",
    "fig = plt.figure()\n",
    "ax = fig.add_axes([0,0,1,1])\n",
    "labels = []\n",
    "def add_label(violin, label):\n",
    "    color = violin[\"bodies\"][0].get_facecolor().flatten()\n",
    "    labels.append((mpatches.Patch(color=color), label))\n",
    "\n",
    "add_label(plt.violinplot([results[\"vphpl\"][\"pvt\"],results[\"vphpl\"][\"bus\"]]), \"VPHPL\")    \n",
    "add_label(plt.violinplot([results[\"pphpl1\"][\"pvt\"],results[\"pphpl1\"][\"bus\"],results[\"pphpl1\"][\"wb\"]]), \"PPHPL1\")\n",
    "add_label(plt.violinplot([results[\"pphpl2\"][\"pvt\"],results[\"pphpl2\"][\"bus\"],results[\"pphpl2\"][\"wb\"]]), \"PPHPL2 (20 km)\")\n",
    "ax.set_yscale(\"log\")\n",
    "xticklabels = ['Private vehicle', 'Transit bus', 'Walk & bike']\n",
    "ax.set_xticks([1,2,3])\n",
    "ax.set_xticklabels(xticklabels)\n",
    "plt.legend(*zip(*labels), loc=2, fontsize = 12)\n",
    "ax.set_ylabel('Number of vehicles or people per hour per lane')"
   ]
  },
  {
   "cell_type": "code",
   "execution_count": null,
   "metadata": {},
   "outputs": [],
   "source": [
    "#COMBINED VPHPL AND PPHPL PLOT\n",
    "fig = plt.figure()\n",
    "ax = fig.add_axes([0,0,1,1])\n",
    "labels = []\n",
    "def add_label(violin, label):\n",
    "    color = violin[\"bodies\"][0].get_facecolor().flatten()\n",
    "    labels.append((mpatches.Patch(color=color), label))\n",
    "\n",
    "add_label(plt.violinplot([results[\"vphpl\"][\"pvt\"],results[\"vphpl\"][\"bus\"]]), \"VPHPL\")    \n",
    "add_label(plt.violinplot([results[\"pphpl1\"][\"pvt\"],results[\"pphpl1\"][\"bus\"],results[\"pphpl1\"][\"wb\"]]), \"PPHPL\")\n",
    "ax.set_yscale(\"log\")\n",
    "xticklabels = ['Private vehicle', 'Transit bus', 'Walk & bike']\n",
    "ax.set_xticks([1,2,3])\n",
    "ax.set_xticklabels(xticklabels)\n",
    "plt.legend(*zip(*labels), loc=2, fontsize = 12)\n",
    "ax.set_ylabel('Number of vehicles or people per hour per lane')"
   ]
  },
  {
   "cell_type": "markdown",
   "metadata": {},
   "source": [
    "# Standard Deviation Plots for PEIT (interactive)"
   ]
  },
  {
   "cell_type": "code",
   "execution_count": null,
   "metadata": {},
   "outputs": [],
   "source": [
    "def explore_peit_var(ms_var, occ_var, FE_var):\n",
    "    cdf_plot([results['peit1']['combined'],calculate_peit_var(ms_var, occ_var, FE_var)],['Baseline','Modified'],\"PEIT1 [L/km]\",['gold','red'])\n",
    "    \n",
    "interactive_plot = interactive(explore_peit_var, ms_var=(-3.0, 3.0,0.5), occ_var=(-3, 3, 0.5), FE_var=(-3,3,0.5))\n",
    "output = interactive_plot.children[-1]\n",
    "output.layout.height = '640px'\n",
    "interactive_plot"
   ]
  },
  {
   "cell_type": "markdown",
   "metadata": {},
   "source": [
    "### Interaction"
   ]
  },
  {
   "cell_type": "code",
   "execution_count": null,
   "metadata": {},
   "outputs": [],
   "source": [
    "@interact(ms=widgets.FloatSlider(min=0,max=1.0, value=1.0), avo=widgets.IntSlider(min=1, max=5, step=1, value=1), ei=widgets.BoundedIntText(min=1, value=10))\n",
    "def mpec_driving(ms, avo, ei):\n",
    "    return 1.0 / (ms * (1/avo) * ei)"
   ]
  },
  {
   "cell_type": "code",
   "execution_count": null,
   "metadata": {},
   "outputs": [],
   "source": [
    "def print_mpec_driving(avo):\n",
    "    print(mpec_driving(ms=1.0, avo=avo, ei=10))\n",
    "play = widgets.Play(\n",
    "    value=1,\n",
    "    min=1,\n",
    "    max=5,\n",
    "    step=1,\n",
    "    description=\"Press play\",\n",
    "    disabled=False\n",
    ")\n",
    "slider = widgets.FloatSlider(min=1, max=5, step=0.5, description=\"avo\")\n",
    "widgets.jslink((play, 'value'), (slider, 'value'))\n",
    "controls = widgets.HBox([play, slider])\n",
    "out = widgets.interactive_output(print_mpec_driving, {'avo': play})\n",
    "display(controls, out)"
   ]
  },
  {
   "cell_type": "markdown",
   "metadata": {},
   "source": [
    "## Additional advanced functionality examples"
   ]
  },
  {
   "cell_type": "markdown",
   "metadata": {},
   "source": [
    "### Arguments that are dependent on each other"
   ]
  },
  {
   "cell_type": "markdown",
   "metadata": {},
   "source": [
    "Arguments that are dependent on each other can be expressed manually using `observe`.  See the following example, where one variable is used to describe the bounds of another.  For more information, please see the [widget events example notebook](./Widget%20Events.ipynb)."
   ]
  },
  {
   "cell_type": "code",
   "execution_count": null,
   "metadata": {},
   "outputs": [],
   "source": [
    "x_widget = widgets.FloatSlider(min=0.0, max=10.0, step=0.05)\n",
    "y_widget = widgets.FloatSlider(min=0.5, max=10.0, step=0.05, value=5.0)\n",
    "\n",
    "def update_x_range(*args):\n",
    "    x_widget.max = 2.0 * y_widget.value\n",
    "y_widget.observe(update_x_range, 'value')\n",
    "\n",
    "def printer(x, y):\n",
    "    print(x, y)\n",
    "interact(printer,x=x_widget, y=y_widget);"
   ]
  },
  {
   "cell_type": "markdown",
   "metadata": {},
   "source": [
    "### Flickering and jumping output\n",
    "\n",
    "On occasion, you may notice interact output flickering and jumping, causing the notebook scroll position to change as the output is updated. The interactive control has a layout, so we can set its height to an appropriate value (currently chosen manually) so that it will not change size as it is updated.\n"
   ]
  },
  {
   "cell_type": "code",
   "execution_count": null,
   "metadata": {},
   "outputs": [],
   "source": [
    "%matplotlib inline\n",
    "from ipywidgets import interactive\n",
    "import matplotlib.pyplot as plt\n",
    "import numpy as np\n",
    "\n",
    "def f(m, b):\n",
    "    plt.figure(2)\n",
    "    x = np.linspace(-10, 10, num=1000)\n",
    "    plt.plot(x, m * x + b)\n",
    "    plt.ylim(-5, 5)\n",
    "    plt.show()\n",
    "\n",
    "interactive_plot = interactive(f, m=(-2.0, 2.0), b=(-3, 3, 0.5))\n",
    "output = interactive_plot.children[-1]\n",
    "output.layout.height = '350px'\n",
    "interactive_plot"
   ]
  },
  {
   "cell_type": "code",
   "execution_count": null,
   "metadata": {},
   "outputs": [],
   "source": []
  }
 ],
 "metadata": {
  "kernelspec": {
   "display_name": "Python 3",
   "language": "python",
   "name": "python3"
  },
  "language_info": {
   "codemirror_mode": {
    "name": "ipython",
    "version": 3
   },
   "file_extension": ".py",
   "mimetype": "text/x-python",
   "name": "python",
   "nbconvert_exporter": "python",
   "pygments_lexer": "ipython3",
   "version": "3.8.5"
  }
 },
 "nbformat": 4,
 "nbformat_minor": 4
}

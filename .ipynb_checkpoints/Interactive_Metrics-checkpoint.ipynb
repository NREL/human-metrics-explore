{
 "cells": [
  {
   "cell_type": "markdown",
   "metadata": {},
   "source": [
    "## Towards Human-Centric Transportation and Energy Metrics: Influence of Mode, Vehicle Occupancy, Trip Distance, and Fuel Economy\n",
    "\n",
    "This notebook is a companion to the related paper of the same name. We publish our code for greater reproducibility and as a basis for additional innovation in this field. This notebook contains interactive graphs that can be manipulated to explore the metric space. This allows the notebook to be used by practioners as well without modifying any code."
   ]
  },
  {
   "cell_type": "markdown",
   "metadata": {},
   "source": [
    "Abstract: \n",
    "\n",
    "_Traditional metrics measuring transportation and energy outcomes can be augmented to better represent impacts on people's lives and systems-level performance. In this context, this study introduces two novel metrics: road capacity (as number of people traveling and accessing services) and energy intensity (as energy use for people traveling and accessing services). Current national-level distributions of available data in the United States for factors contributing to the two new integrated metrics are used as context to evaluate potential outcomes. These factors include vehicle occupancy, mode share, fuel economy, and trip distance. Variations in input values provide insights on how these factors shape efficiencies in road capacity and energy intensity. Parametric sensitivity analysis indicates that the impact of each input depends upon the metric being evaluated. For the human-centered road capacity mobility metric, increasing vehicle occupancy has the largest effect &ndash; twice that of increasing mode share for bike, walk, and transit. For the energy intensity mobility metric, the effect of improving fuel economy is the largest. However, when the focus is on accessibility (instead of mobility), for both metrics the effect of lowering average trip distance is the largest. Additionally, a novel interactive tool to visualize the results for various parameter combinations makes the metrics practitioner ready. The findings suggest that the diffusion of new human-centric metrics that benchmark outcomes associated with road capacity and energy may be significant in motivating new sustainable transportation investments and efficient utilization of infrastructure, mobility assets, and services._"
   ]
  },
  {
   "cell_type": "code",
   "execution_count": null,
   "metadata": {},
   "outputs": [],
   "source": [
    "from ipywidgets import interact, interactive, fixed, interact_manual\n",
    "import ipywidgets as widgets\n",
    "from copy import deepcopy\n",
    "\n",
    "import numpy as np\n",
    "import matplotlib.patches as mpatches\n",
    "\n",
    "from functions.vphpl_pphpl_calc import vphpl_pphpl_calc, pphpl_by_mode\n",
    "from functions.plots_functions import violin, pdf_plot, cdf_plot, cdf_subplots, calc_ms_pvt\n",
    "from functions.graphing_functions import cdf_plot, calculate_peit_var, get_data, create_sliders, change_mean_from_kwargs\n",
    "\n",
    "from ipywidgets import interactive, Layout\n",
    "%matplotlib inline\n",
    "import matplotlib as mpl\n",
    "import seaborn as sns\n",
    "\n",
    "mpl.rcParams['figure.figsize'] = [8.0, 6.0]\n",
    "mpl.rcParams['figure.dpi'] = 80\n",
    "mpl.rcParams['savefig.dpi'] = 100\n",
    "\n",
    "mpl.rcParams['font.size'] = 13\n",
    "mpl.rcParams['axes.labelsize'] = 13\n",
    "mpl.rcParams['axes.titlesize'] = 13\n",
    "mpl.rcParams['legend.fontsize'] = 'medium'\n",
    "mpl.rcParams['figure.titlesize'] = 'medium'\n",
    "#mpl.rcParams['figure.subplot.wspace'] = 0.25 #Use when producing 3-wide subplots\n",
    "\n",
    "\n",
    "#Color-blind friendly for line plots: https://gist.github.com/thriveth/8560036\n",
    "CB_color_cycle = ['#377eb8', '#ff7f00', '#4daf4a',\n",
    "                  '#f781bf', '#a65628', '#984ea3',\n",
    "                  '#999999', '#e41a1c', '#dede00']\n"
   ]
  },
  {
   "cell_type": "code",
   "execution_count": null,
   "metadata": {},
   "outputs": [],
   "source": [
    "params, results, summary = get_data()"
   ]
  },
  {
   "cell_type": "markdown",
   "metadata": {},
   "source": [
    "## PEIT- Personal Energy Intensity for Transportation"
   ]
  },
  {
   "cell_type": "code",
   "execution_count": null,
   "metadata": {},
   "outputs": [],
   "source": [
    "# ms: mode share\n",
    "# occ: average occupancy\n",
    "# FE: fuel efficiency\n",
    "def peit1_calc(ms, occ, FE):\n",
    "    return ms * (1/occ) * (1/FE)"
   ]
  },
  {
   "cell_type": "code",
   "execution_count": null,
   "metadata": {},
   "outputs": [],
   "source": [
    "baseline = results['peit1']['combined']"
   ]
  },
  {
   "cell_type": "code",
   "execution_count": null,
   "metadata": {},
   "outputs": [],
   "source": [
    "# summary"
   ]
  },
  {
   "cell_type": "code",
   "execution_count": null,
   "metadata": {},
   "outputs": [],
   "source": [
    "def get_modified_peit(**kwargs):\n",
    "    # let's say that the original mean was 10, new mean is 20. we want to add 10 to all values\n",
    "    change_mean = lambda param_mode: change_mean_from_kwargs(param_mode, kwargs)\n",
    "    \n",
    "    ms_wb_mod = change_mean(\"ms_wb\")\n",
    "    ms_transit_mod = change_mean(\"ms_bus\")\n",
    "    ms_pvt_mod = 1 - (ms_transit_mod + ms_wb_mod)\n",
    "\n",
    "    pvt_peit_mod = peit1_calc(ms_pvt_mod, change_mean(\"occ_pvt\"), change_mean(\"FE_pvt\"))\n",
    "    bus_peit_mod= peit1_calc(ms_transit_mod, change_mean(\"occ_bus\"), change_mean(\"FE_bus\"))\n",
    "    wb_peit_mod=peit1_calc(ms_wb_mod,1,110)\n",
    "    modified_peit = pvt_peit_mod + bus_peit_mod + wb_peit_mod\n",
    "    return modified_peit"
   ]
  },
  {
   "cell_type": "code",
   "execution_count": null,
   "metadata": {},
   "outputs": [],
   "source": [
    "def explore_peit_var(**kwargs):\n",
    "    modified_peit = get_modified_peit(**kwargs)\n",
    "    cdf_plot([results['peit1']['combined'],modified_peit],['Baseline','Modified'],\"PEIT1 [L/km]\",['gold','red'])"
   ]
  },
  {
   "cell_type": "code",
   "execution_count": null,
   "metadata": {},
   "outputs": [],
   "source": [
    "PEIT_SLIDER_LIST = [\"ms_wb\", \"ms_bus\", \"occ_bus\", \"occ_pvt\", \"FE_bus\", \"FE_pvt\"]"
   ]
  },
  {
   "cell_type": "code",
   "execution_count": null,
   "metadata": {},
   "outputs": [],
   "source": [
    "# create_sliders()"
   ]
  },
  {
   "cell_type": "code",
   "execution_count": null,
   "metadata": {},
   "outputs": [],
   "source": [
    "# interact_manual(explore_peit_var, **create_sliders(PEIT_SLIDER_LIST));"
   ]
  },
  {
   "cell_type": "code",
   "execution_count": null,
   "metadata": {},
   "outputs": [],
   "source": [
    "interactive_plot_1 = interactive(explore_peit_var, {'manual' : True, 'manual_name' : 'Recalculate'}, **create_sliders(PEIT_SLIDER_LIST));\n",
    "interactive_plot_2 = interactive(explore_peit_var, {'manual' : True, 'manual_name' : 'Recalculate'}, **create_sliders(PEIT_SLIDER_LIST));\n",
    "two_graphs = widgets.HBox(children=[interactive_plot_1, interactive_plot_2])\n",
    "two_graphs"
   ]
  },
  {
   "cell_type": "markdown",
   "metadata": {},
   "source": [
    "## PPHPL- People per hour per lane"
   ]
  },
  {
   "cell_type": "code",
   "execution_count": null,
   "metadata": {},
   "outputs": [],
   "source": [
    "def pphpl_by_mode(vphpl,mpw,occ):\n",
    "    pphpl = vphpl*mpw*occ\n",
    "    return pphpl "
   ]
  },
  {
   "cell_type": "code",
   "execution_count": null,
   "metadata": {},
   "outputs": [],
   "source": [
    "baseline_pphpl = results['pphpl1']['combined']"
   ]
  },
  {
   "cell_type": "code",
   "execution_count": null,
   "metadata": {},
   "outputs": [],
   "source": [
    "def get_modified_pphpl(**kwargs):\n",
    "    # let's say that the original mean was 10, new mean is 20. we want to add 10 to all values\n",
    "    change_mean = lambda param_mode: change_mean_from_kwargs(param_mode, kwargs)\n",
    "    \n",
    "    pvt_pphpl_mod = pphpl_by_mode(change_mean(\"vphpl_pvt\"), params['mpw']['pvt'], change_mean(\"occ_pvt\"))\n",
    "    bus_pphpl_mod= pphpl_by_mode(change_mean(\"vphpl_bus\"), params['mpw']['bus'], change_mean(\"occ_bus\"))\n",
    "    wb_pphpl_mod=pphpl_by_mode(change_mean(\"vphpl_wb\"), params['mpw']['wb'], 1)\n",
    "    modified_pphpl = pvt_pphpl_mod + bus_pphpl_mod + wb_pphpl_mod\n",
    "    return modified_pphpl"
   ]
  },
  {
   "cell_type": "code",
   "execution_count": null,
   "metadata": {},
   "outputs": [],
   "source": [
    "def explore_pphpl_var(**kwargs):\n",
    "    modified_pphpl = get_modified_pphpl(**kwargs)\n",
    "    cdf_plot([results['pphpl1']['combined'],modified_pphpl],['Baseline','Modified'],\"PPHPL\",['gold','red'])"
   ]
  },
  {
   "cell_type": "code",
   "execution_count": null,
   "metadata": {},
   "outputs": [],
   "source": [
    "PPHPL_SLIDER_LIST = [\"vphpl_pvt\", \"vphpl_bus\", \"vphpl_wb\", \"occ_pvt\", \"occ_bus\"]"
   ]
  },
  {
   "cell_type": "code",
   "execution_count": null,
   "metadata": {},
   "outputs": [],
   "source": [
    "interactive_plot_3 = interactive(explore_pphpl_var, {'manual' : True, 'manual_name' : 'Recalculate'}, **create_sliders(PPHPL_SLIDER_LIST));\n",
    "interactive_plot_4 = interactive(explore_pphpl_var, {'manual' : True, 'manual_name' : 'Recalculate'}, **create_sliders(PPHPL_SLIDER_LIST));\n",
    "two_graphs = widgets.HBox(children=[interactive_plot_3, interactive_plot_4])\n",
    "two_graphs"
   ]
  },
  {
   "cell_type": "code",
   "execution_count": null,
   "metadata": {},
   "outputs": [],
   "source": [
    "results['vphpl'].keys()"
   ]
  },
  {
   "cell_type": "code",
   "execution_count": null,
   "metadata": {},
   "outputs": [],
   "source": []
  }
 ],
 "metadata": {
  "kernelspec": {
   "display_name": "Python 3",
   "language": "python",
   "name": "python3"
  },
  "language_info": {
   "codemirror_mode": {
    "name": "ipython",
    "version": 3
   },
   "file_extension": ".py",
   "mimetype": "text/x-python",
   "name": "python",
   "nbconvert_exporter": "python",
   "pygments_lexer": "ipython3",
   "version": "3.8.3"
  }
 },
 "nbformat": 4,
 "nbformat_minor": 4
}
